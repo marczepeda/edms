{
 "cells": [
  {
   "cell_type": "markdown",
   "metadata": {},
   "source": [
    "# Examples: Analyze Fastq Workflow\n",
    "- Author: Marc Zepeda\n",
    "- Date: 240925\n",
    "- Locus: IKZF1 ZF2,3 Domain\n",
    "## Import Packages"
   ]
  },
  {
   "cell_type": "code",
   "execution_count": 1,
   "metadata": {},
   "outputs": [],
   "source": [
    "import edms.gen.io as io\n",
    "import edms.bio.fastq as f\n",
    "import pandas as pd\n",
    "import warnings\n",
    "warnings.filterwarnings(\"ignore\")"
   ]
  },
  {
   "cell_type": "markdown",
   "metadata": {},
   "source": [
    "# get_fastqs: Get fastq files from directory and store records in dataframes in a dictionary\n",
    "- dir: directory with fastq files\n",
    "- suf: file suffix (.fastq.gz or .fastq)\n",
    "- quality: phred quality score threshold\n",
    "- compressed: zipped file(s)?\n",
    "- Dependencies: Bio.SeqIO, gzip, os, pandas, Bio.Seq.Seq"
   ]
  },
  {
   "cell_type": "code",
   "execution_count": 2,
   "metadata": {},
   "outputs": [
    {
     "name": "stdout",
     "output_type": "stream",
     "text": [
      "MUZ137-43_S8_L001_R1_001:\t59699 reads\n",
      "MUZ137-66_S31_L001_R1_001:\t78909 reads\n",
      "MUZ137-44_S9_L001_R1_001:\t67903 reads\n",
      "MUZ137-72_S37_L001_R1_001:\t89339 reads\n",
      "MUZ137-48_S13_L001_R1_001:\t67948 reads\n",
      "MUZ137-50_S15_L001_R1_001:\t75833 reads\n",
      "MUZ137-53_S18_L001_R1_001:\t88234 reads\n",
      "MUZ137-60_S25_L001_R1_001:\t69177 reads\n",
      "MUZ137-63_S28_L001_R1_001:\t83042 reads\n",
      "MUZ137-56_S21_L001_R1_001:\t83380 reads\n",
      "MUZ137-58_S23_L001_R1_001:\t77809 reads\n",
      "MUZ137-68_S33_L001_R1_001:\t94834 reads\n",
      "MUZ137-52_S17_L001_R1_001:\t71081 reads\n",
      "MUZ137-46_S11_L001_R1_001:\t56814 reads\n",
      "MUZ137-62_S27_L001_R1_001:\t90290 reads\n",
      "MUZ137-70_S35_L001_R1_001:\t86558 reads\n",
      "MUZ137-41_S6_L001_R1_001:\t73154 reads\n",
      "MUZ137-61_S26_L001_R1_001:\t82672 reads\n",
      "MUZ137-51_S16_L001_R1_001:\t77310 reads\n",
      "MUZ137-59_S24_L001_R1_001:\t73081 reads\n",
      "MUZ137-45_S10_L001_R1_001:\t67016 reads\n",
      "MUZ137-67_S32_L001_R1_001:\t75977 reads\n",
      "MUZ137-42_S7_L001_R1_001:\t63278 reads\n",
      "MUZ137-69_S34_L001_R1_001:\t85620 reads\n",
      "MUZ137-57_S22_L001_R1_001:\t76411 reads\n",
      "MUZ137-49_S14_L001_R1_001:\t72198 reads\n",
      "MUZ137-55_S20_L001_R1_001:\t70460 reads\n",
      "MUZ137-65_S30_L001_R1_001:\t93281 reads\n",
      "MUZ137-71_S36_L001_R1_001:\t89919 reads\n",
      "MUZ137-47_S12_L001_R1_001:\t70088 reads\n",
      "MUZ137-64_S29_L001_R1_001:\t89283 reads\n",
      "MUZ137-54_S19_L001_R1_001:\t61885 reads\n"
     ]
    }
   ],
   "source": [
    "fastqs = f.get_fastqs(dir='../in/fastq')"
   ]
  },
  {
   "cell_type": "code",
   "execution_count": 3,
   "metadata": {},
   "outputs": [
    {
     "data": {
      "text/html": [
       "<div>\n",
       "<style scoped>\n",
       "    .dataframe tbody tr th:only-of-type {\n",
       "        vertical-align: middle;\n",
       "    }\n",
       "\n",
       "    .dataframe tbody tr th {\n",
       "        vertical-align: top;\n",
       "    }\n",
       "\n",
       "    .dataframe thead th {\n",
       "        text-align: right;\n",
       "    }\n",
       "</style>\n",
       "<table border=\"1\" class=\"dataframe\">\n",
       "  <thead>\n",
       "    <tr style=\"text-align: right;\">\n",
       "      <th></th>\n",
       "      <th>id</th>\n",
       "      <th>seq</th>\n",
       "      <th>phred_scores</th>\n",
       "    </tr>\n",
       "  </thead>\n",
       "  <tbody>\n",
       "    <tr>\n",
       "      <th>0</th>\n",
       "      <td>M08188:135:000000000-GMHWV:1:1101:16383:1352</td>\n",
       "      <td>(T, A, C, G, T, C, T, C, T, C, C, G, T, C, C, ...</td>\n",
       "      <td>[35, 34, 34, 35, 35, 37, 37, 37, 37, 37, 37, 3...</td>\n",
       "    </tr>\n",
       "    <tr>\n",
       "      <th>1</th>\n",
       "      <td>M08188:135:000000000-GMHWV:1:1101:15531:1386</td>\n",
       "      <td>(C, T, T, A, T, C, T, C, T, C, C, G, T, C, C, ...</td>\n",
       "      <td>[33, 34, 34, 33, 34, 37, 37, 37, 37, 37, 37, 3...</td>\n",
       "    </tr>\n",
       "    <tr>\n",
       "      <th>2</th>\n",
       "      <td>M08188:135:000000000-GMHWV:1:1101:16773:1396</td>\n",
       "      <td>(T, A, G, G, T, C, T, C, T, C, C, G, T, C, C, ...</td>\n",
       "      <td>[35, 34, 34, 35, 35, 37, 37, 37, 37, 37, 37, 3...</td>\n",
       "    </tr>\n",
       "    <tr>\n",
       "      <th>3</th>\n",
       "      <td>M08188:135:000000000-GMHWV:1:1101:16273:1412</td>\n",
       "      <td>(C, T, T, G, T, C, T, C, T, C, C, G, T, C, C, ...</td>\n",
       "      <td>[34, 34, 34, 34, 34, 37, 37, 37, 37, 37, 37, 3...</td>\n",
       "    </tr>\n",
       "    <tr>\n",
       "      <th>4</th>\n",
       "      <td>M08188:135:000000000-GMHWV:1:1101:15914:1450</td>\n",
       "      <td>(C, T, G, G, T, C, T, C, T, C, C, G, T, C, C, ...</td>\n",
       "      <td>[31, 32, 33, 31, 33, 37, 37, 37, 37, 37, 37, 3...</td>\n",
       "    </tr>\n",
       "  </tbody>\n",
       "</table>\n",
       "</div>"
      ],
      "text/plain": [
       "                                             id  \\\n",
       "0  M08188:135:000000000-GMHWV:1:1101:16383:1352   \n",
       "1  M08188:135:000000000-GMHWV:1:1101:15531:1386   \n",
       "2  M08188:135:000000000-GMHWV:1:1101:16773:1396   \n",
       "3  M08188:135:000000000-GMHWV:1:1101:16273:1412   \n",
       "4  M08188:135:000000000-GMHWV:1:1101:15914:1450   \n",
       "\n",
       "                                                 seq  \\\n",
       "0  (T, A, C, G, T, C, T, C, T, C, C, G, T, C, C, ...   \n",
       "1  (C, T, T, A, T, C, T, C, T, C, C, G, T, C, C, ...   \n",
       "2  (T, A, G, G, T, C, T, C, T, C, C, G, T, C, C, ...   \n",
       "3  (C, T, T, G, T, C, T, C, T, C, C, G, T, C, C, ...   \n",
       "4  (C, T, G, G, T, C, T, C, T, C, C, G, T, C, C, ...   \n",
       "\n",
       "                                        phred_scores  \n",
       "0  [35, 34, 34, 35, 35, 37, 37, 37, 37, 37, 37, 3...  \n",
       "1  [33, 34, 34, 33, 34, 37, 37, 37, 37, 37, 37, 3...  \n",
       "2  [35, 34, 34, 35, 35, 37, 37, 37, 37, 37, 37, 3...  \n",
       "3  [34, 34, 34, 34, 34, 37, 37, 37, 37, 37, 37, 3...  \n",
       "4  [31, 32, 33, 31, 33, 37, 37, 37, 37, 37, 37, 3...  "
      ]
     },
     "execution_count": 3,
     "metadata": {},
     "output_type": "execute_result"
    }
   ],
   "source": [
    "fastqs['MUZ137-43_S8_L001_R1_001'].head()"
   ]
  },
  {
   "cell_type": "markdown",
   "metadata": {},
   "source": [
    "# filter_fastqs: Gets DNA and AA sequence for records within flanks\n",
    "- fastqs: dictionary from get_fastqs\n",
    "- pt: path to PrimeDesign input file (Required unless flank5 and flank3 are provided)\n",
    "- flank5: top strand flanking sequence 5' (Required unless pt is provided)\n",
    "- flank3: top strand flanking sequence 3' (Required unless pt is provided)\n",
    "- quality: phred quality score threshold within flanks\n",
    "- Dependencies: get_fastqs(), pandas, Bio.Seq.Seq"
   ]
  },
  {
   "cell_type": "code",
   "execution_count": 4,
   "metadata": {},
   "outputs": [
    {
     "name": "stdout",
     "output_type": "stream",
     "text": [
      "AGAACGGCCC\n",
      "TTCCAGTGCAATCAGTGCGGGGCCTCATTCACCCAGAAGGGCAACCTGCTCCGGCACATCAAGCTGCATTCCGGGGAGAAGCCCTTCAAATGCCACCTCTGCAACTACGCCTGCCGCCGGAGGGACGCCCTCACTGGCCACCTGAGGACGCAC\n",
      "TCCGGTAGGT\n",
      "TTCCAGTGCAATCAGTGCGGGGCCTCATTCACCCAGAAGGGCAACCTGCTCCGGCACATCAAGCTGCATTCCGGGGAGAAGCCCTTCAAATGCCACCTCTGCAACTACGCCTGCCGCCGGAGGGACGCCCTCACTGGCCACCTGAGGACGCAC\n"
     ]
    },
    {
     "name": "stderr",
     "output_type": "stream",
     "text": [
      "/Users/marczepeda/anaconda3/lib/python3.11/site-packages/Bio/Seq.py:2880: BiopythonWarning: Partial codon, len(sequence) not a multiple of three. Explicitly trim the sequence or add trailing N before translation. This may become an error in future.\n",
      "  warnings.warn(\n"
     ]
    },
    {
     "name": "stdout",
     "output_type": "stream",
     "text": [
      "MUZ137-43_S8_L001_R1_001:\t58768 reads\t=>\t52688 reads\n"
     ]
    },
    {
     "name": "stderr",
     "output_type": "stream",
     "text": [
      "/Users/marczepeda/anaconda3/lib/python3.11/site-packages/Bio/Seq.py:2880: BiopythonWarning: Partial codon, len(sequence) not a multiple of three. Explicitly trim the sequence or add trailing N before translation. This may become an error in future.\n",
      "  warnings.warn(\n"
     ]
    },
    {
     "name": "stdout",
     "output_type": "stream",
     "text": [
      "MUZ137-66_S31_L001_R1_001:\t77763 reads\t=>\t69903 reads\n"
     ]
    },
    {
     "name": "stderr",
     "output_type": "stream",
     "text": [
      "/Users/marczepeda/anaconda3/lib/python3.11/site-packages/Bio/Seq.py:2880: BiopythonWarning: Partial codon, len(sequence) not a multiple of three. Explicitly trim the sequence or add trailing N before translation. This may become an error in future.\n",
      "  warnings.warn(\n"
     ]
    },
    {
     "name": "stdout",
     "output_type": "stream",
     "text": [
      "MUZ137-44_S9_L001_R1_001:\t66913 reads\t=>\t60420 reads\n"
     ]
    },
    {
     "name": "stderr",
     "output_type": "stream",
     "text": [
      "/Users/marczepeda/anaconda3/lib/python3.11/site-packages/Bio/Seq.py:2880: BiopythonWarning: Partial codon, len(sequence) not a multiple of three. Explicitly trim the sequence or add trailing N before translation. This may become an error in future.\n",
      "  warnings.warn(\n"
     ]
    },
    {
     "name": "stdout",
     "output_type": "stream",
     "text": [
      "MUZ137-72_S37_L001_R1_001:\t87970 reads\t=>\t80017 reads\n"
     ]
    },
    {
     "name": "stderr",
     "output_type": "stream",
     "text": [
      "/Users/marczepeda/anaconda3/lib/python3.11/site-packages/Bio/Seq.py:2880: BiopythonWarning: Partial codon, len(sequence) not a multiple of three. Explicitly trim the sequence or add trailing N before translation. This may become an error in future.\n",
      "  warnings.warn(\n"
     ]
    },
    {
     "name": "stdout",
     "output_type": "stream",
     "text": [
      "MUZ137-48_S13_L001_R1_001:\t66933 reads\t=>\t60819 reads\n"
     ]
    },
    {
     "name": "stderr",
     "output_type": "stream",
     "text": [
      "/Users/marczepeda/anaconda3/lib/python3.11/site-packages/Bio/Seq.py:2880: BiopythonWarning: Partial codon, len(sequence) not a multiple of three. Explicitly trim the sequence or add trailing N before translation. This may become an error in future.\n",
      "  warnings.warn(\n"
     ]
    },
    {
     "name": "stdout",
     "output_type": "stream",
     "text": [
      "MUZ137-50_S15_L001_R1_001:\t74701 reads\t=>\t67886 reads\n"
     ]
    },
    {
     "name": "stderr",
     "output_type": "stream",
     "text": [
      "/Users/marczepeda/anaconda3/lib/python3.11/site-packages/Bio/Seq.py:2880: BiopythonWarning: Partial codon, len(sequence) not a multiple of three. Explicitly trim the sequence or add trailing N before translation. This may become an error in future.\n",
      "  warnings.warn(\n"
     ]
    },
    {
     "name": "stdout",
     "output_type": "stream",
     "text": [
      "MUZ137-53_S18_L001_R1_001:\t86968 reads\t=>\t79142 reads\n"
     ]
    },
    {
     "name": "stderr",
     "output_type": "stream",
     "text": [
      "/Users/marczepeda/anaconda3/lib/python3.11/site-packages/Bio/Seq.py:2880: BiopythonWarning: Partial codon, len(sequence) not a multiple of three. Explicitly trim the sequence or add trailing N before translation. This may become an error in future.\n",
      "  warnings.warn(\n"
     ]
    },
    {
     "name": "stdout",
     "output_type": "stream",
     "text": [
      "MUZ137-60_S25_L001_R1_001:\t67983 reads\t=>\t61717 reads\n"
     ]
    },
    {
     "name": "stderr",
     "output_type": "stream",
     "text": [
      "/Users/marczepeda/anaconda3/lib/python3.11/site-packages/Bio/Seq.py:2880: BiopythonWarning: Partial codon, len(sequence) not a multiple of three. Explicitly trim the sequence or add trailing N before translation. This may become an error in future.\n",
      "  warnings.warn(\n"
     ]
    },
    {
     "name": "stdout",
     "output_type": "stream",
     "text": [
      "MUZ137-63_S28_L001_R1_001:\t81879 reads\t=>\t73165 reads\n"
     ]
    },
    {
     "name": "stderr",
     "output_type": "stream",
     "text": [
      "/Users/marczepeda/anaconda3/lib/python3.11/site-packages/Bio/Seq.py:2880: BiopythonWarning: Partial codon, len(sequence) not a multiple of three. Explicitly trim the sequence or add trailing N before translation. This may become an error in future.\n",
      "  warnings.warn(\n"
     ]
    },
    {
     "name": "stdout",
     "output_type": "stream",
     "text": [
      "MUZ137-56_S21_L001_R1_001:\t82149 reads\t=>\t74549 reads\n"
     ]
    },
    {
     "name": "stderr",
     "output_type": "stream",
     "text": [
      "/Users/marczepeda/anaconda3/lib/python3.11/site-packages/Bio/Seq.py:2880: BiopythonWarning: Partial codon, len(sequence) not a multiple of three. Explicitly trim the sequence or add trailing N before translation. This may become an error in future.\n",
      "  warnings.warn(\n"
     ]
    },
    {
     "name": "stdout",
     "output_type": "stream",
     "text": [
      "MUZ137-58_S23_L001_R1_001:\t76624 reads\t=>\t69394 reads\n"
     ]
    },
    {
     "name": "stderr",
     "output_type": "stream",
     "text": [
      "/Users/marczepeda/anaconda3/lib/python3.11/site-packages/Bio/Seq.py:2880: BiopythonWarning: Partial codon, len(sequence) not a multiple of three. Explicitly trim the sequence or add trailing N before translation. This may become an error in future.\n",
      "  warnings.warn(\n"
     ]
    },
    {
     "name": "stdout",
     "output_type": "stream",
     "text": [
      "MUZ137-68_S33_L001_R1_001:\t93353 reads\t=>\t84028 reads\n"
     ]
    },
    {
     "name": "stderr",
     "output_type": "stream",
     "text": [
      "/Users/marczepeda/anaconda3/lib/python3.11/site-packages/Bio/Seq.py:2880: BiopythonWarning: Partial codon, len(sequence) not a multiple of three. Explicitly trim the sequence or add trailing N before translation. This may become an error in future.\n",
      "  warnings.warn(\n"
     ]
    },
    {
     "name": "stdout",
     "output_type": "stream",
     "text": [
      "MUZ137-52_S17_L001_R1_001:\t69993 reads\t=>\t63600 reads\n"
     ]
    },
    {
     "name": "stderr",
     "output_type": "stream",
     "text": [
      "/Users/marczepeda/anaconda3/lib/python3.11/site-packages/Bio/Seq.py:2880: BiopythonWarning: Partial codon, len(sequence) not a multiple of three. Explicitly trim the sequence or add trailing N before translation. This may become an error in future.\n",
      "  warnings.warn(\n"
     ]
    },
    {
     "name": "stdout",
     "output_type": "stream",
     "text": [
      "MUZ137-46_S11_L001_R1_001:\t55996 reads\t=>\t50770 reads\n"
     ]
    },
    {
     "name": "stderr",
     "output_type": "stream",
     "text": [
      "/Users/marczepeda/anaconda3/lib/python3.11/site-packages/Bio/Seq.py:2880: BiopythonWarning: Partial codon, len(sequence) not a multiple of three. Explicitly trim the sequence or add trailing N before translation. This may become an error in future.\n",
      "  warnings.warn(\n"
     ]
    },
    {
     "name": "stdout",
     "output_type": "stream",
     "text": [
      "MUZ137-62_S27_L001_R1_001:\t88939 reads\t=>\t79771 reads\n"
     ]
    },
    {
     "name": "stderr",
     "output_type": "stream",
     "text": [
      "/Users/marczepeda/anaconda3/lib/python3.11/site-packages/Bio/Seq.py:2880: BiopythonWarning: Partial codon, len(sequence) not a multiple of three. Explicitly trim the sequence or add trailing N before translation. This may become an error in future.\n",
      "  warnings.warn(\n"
     ]
    },
    {
     "name": "stdout",
     "output_type": "stream",
     "text": [
      "MUZ137-70_S35_L001_R1_001:\t85187 reads\t=>\t77338 reads\n"
     ]
    },
    {
     "name": "stderr",
     "output_type": "stream",
     "text": [
      "/Users/marczepeda/anaconda3/lib/python3.11/site-packages/Bio/Seq.py:2880: BiopythonWarning: Partial codon, len(sequence) not a multiple of three. Explicitly trim the sequence or add trailing N before translation. This may become an error in future.\n",
      "  warnings.warn(\n"
     ]
    },
    {
     "name": "stdout",
     "output_type": "stream",
     "text": [
      "MUZ137-41_S6_L001_R1_001:\t72054 reads\t=>\t64975 reads\n"
     ]
    },
    {
     "name": "stderr",
     "output_type": "stream",
     "text": [
      "/Users/marczepeda/anaconda3/lib/python3.11/site-packages/Bio/Seq.py:2880: BiopythonWarning: Partial codon, len(sequence) not a multiple of three. Explicitly trim the sequence or add trailing N before translation. This may become an error in future.\n",
      "  warnings.warn(\n"
     ]
    },
    {
     "name": "stdout",
     "output_type": "stream",
     "text": [
      "MUZ137-61_S26_L001_R1_001:\t81500 reads\t=>\t73232 reads\n"
     ]
    },
    {
     "name": "stderr",
     "output_type": "stream",
     "text": [
      "/Users/marczepeda/anaconda3/lib/python3.11/site-packages/Bio/Seq.py:2880: BiopythonWarning: Partial codon, len(sequence) not a multiple of three. Explicitly trim the sequence or add trailing N before translation. This may become an error in future.\n",
      "  warnings.warn(\n"
     ]
    },
    {
     "name": "stdout",
     "output_type": "stream",
     "text": [
      "MUZ137-51_S16_L001_R1_001:\t76170 reads\t=>\t69068 reads\n"
     ]
    },
    {
     "name": "stderr",
     "output_type": "stream",
     "text": [
      "/Users/marczepeda/anaconda3/lib/python3.11/site-packages/Bio/Seq.py:2880: BiopythonWarning: Partial codon, len(sequence) not a multiple of three. Explicitly trim the sequence or add trailing N before translation. This may become an error in future.\n",
      "  warnings.warn(\n"
     ]
    },
    {
     "name": "stdout",
     "output_type": "stream",
     "text": [
      "MUZ137-59_S24_L001_R1_001:\t72016 reads\t=>\t65557 reads\n"
     ]
    },
    {
     "name": "stderr",
     "output_type": "stream",
     "text": [
      "/Users/marczepeda/anaconda3/lib/python3.11/site-packages/Bio/Seq.py:2880: BiopythonWarning: Partial codon, len(sequence) not a multiple of three. Explicitly trim the sequence or add trailing N before translation. This may become an error in future.\n",
      "  warnings.warn(\n"
     ]
    },
    {
     "name": "stdout",
     "output_type": "stream",
     "text": [
      "MUZ137-45_S10_L001_R1_001:\t65986 reads\t=>\t60127 reads\n"
     ]
    },
    {
     "name": "stderr",
     "output_type": "stream",
     "text": [
      "/Users/marczepeda/anaconda3/lib/python3.11/site-packages/Bio/Seq.py:2880: BiopythonWarning: Partial codon, len(sequence) not a multiple of three. Explicitly trim the sequence or add trailing N before translation. This may become an error in future.\n",
      "  warnings.warn(\n"
     ]
    },
    {
     "name": "stdout",
     "output_type": "stream",
     "text": [
      "MUZ137-67_S32_L001_R1_001:\t74693 reads\t=>\t66823 reads\n"
     ]
    },
    {
     "name": "stderr",
     "output_type": "stream",
     "text": [
      "/Users/marczepeda/anaconda3/lib/python3.11/site-packages/Bio/Seq.py:2880: BiopythonWarning: Partial codon, len(sequence) not a multiple of three. Explicitly trim the sequence or add trailing N before translation. This may become an error in future.\n",
      "  warnings.warn(\n"
     ]
    },
    {
     "name": "stdout",
     "output_type": "stream",
     "text": [
      "MUZ137-42_S7_L001_R1_001:\t62339 reads\t=>\t56238 reads\n"
     ]
    },
    {
     "name": "stderr",
     "output_type": "stream",
     "text": [
      "/Users/marczepeda/anaconda3/lib/python3.11/site-packages/Bio/Seq.py:2880: BiopythonWarning: Partial codon, len(sequence) not a multiple of three. Explicitly trim the sequence or add trailing N before translation. This may become an error in future.\n",
      "  warnings.warn(\n"
     ]
    },
    {
     "name": "stdout",
     "output_type": "stream",
     "text": [
      "MUZ137-69_S34_L001_R1_001:\t84238 reads\t=>\t76485 reads\n"
     ]
    },
    {
     "name": "stderr",
     "output_type": "stream",
     "text": [
      "/Users/marczepeda/anaconda3/lib/python3.11/site-packages/Bio/Seq.py:2880: BiopythonWarning: Partial codon, len(sequence) not a multiple of three. Explicitly trim the sequence or add trailing N before translation. This may become an error in future.\n",
      "  warnings.warn(\n"
     ]
    },
    {
     "name": "stdout",
     "output_type": "stream",
     "text": [
      "MUZ137-57_S22_L001_R1_001:\t75249 reads\t=>\t68374 reads\n"
     ]
    },
    {
     "name": "stderr",
     "output_type": "stream",
     "text": [
      "/Users/marczepeda/anaconda3/lib/python3.11/site-packages/Bio/Seq.py:2880: BiopythonWarning: Partial codon, len(sequence) not a multiple of three. Explicitly trim the sequence or add trailing N before translation. This may become an error in future.\n",
      "  warnings.warn(\n"
     ]
    },
    {
     "name": "stdout",
     "output_type": "stream",
     "text": [
      "MUZ137-49_S14_L001_R1_001:\t71178 reads\t=>\t64626 reads\n"
     ]
    },
    {
     "name": "stderr",
     "output_type": "stream",
     "text": [
      "/Users/marczepeda/anaconda3/lib/python3.11/site-packages/Bio/Seq.py:2880: BiopythonWarning: Partial codon, len(sequence) not a multiple of three. Explicitly trim the sequence or add trailing N before translation. This may become an error in future.\n",
      "  warnings.warn(\n"
     ]
    },
    {
     "name": "stdout",
     "output_type": "stream",
     "text": [
      "MUZ137-55_S20_L001_R1_001:\t69327 reads\t=>\t62768 reads\n"
     ]
    },
    {
     "name": "stderr",
     "output_type": "stream",
     "text": [
      "/Users/marczepeda/anaconda3/lib/python3.11/site-packages/Bio/Seq.py:2880: BiopythonWarning: Partial codon, len(sequence) not a multiple of three. Explicitly trim the sequence or add trailing N before translation. This may become an error in future.\n",
      "  warnings.warn(\n"
     ]
    },
    {
     "name": "stdout",
     "output_type": "stream",
     "text": [
      "MUZ137-65_S30_L001_R1_001:\t91888 reads\t=>\t82870 reads\n"
     ]
    },
    {
     "name": "stderr",
     "output_type": "stream",
     "text": [
      "/Users/marczepeda/anaconda3/lib/python3.11/site-packages/Bio/Seq.py:2880: BiopythonWarning: Partial codon, len(sequence) not a multiple of three. Explicitly trim the sequence or add trailing N before translation. This may become an error in future.\n",
      "  warnings.warn(\n"
     ]
    },
    {
     "name": "stdout",
     "output_type": "stream",
     "text": [
      "MUZ137-71_S36_L001_R1_001:\t88549 reads\t=>\t80426 reads\n"
     ]
    },
    {
     "name": "stderr",
     "output_type": "stream",
     "text": [
      "/Users/marczepeda/anaconda3/lib/python3.11/site-packages/Bio/Seq.py:2880: BiopythonWarning: Partial codon, len(sequence) not a multiple of three. Explicitly trim the sequence or add trailing N before translation. This may become an error in future.\n",
      "  warnings.warn(\n"
     ]
    },
    {
     "name": "stdout",
     "output_type": "stream",
     "text": [
      "MUZ137-47_S12_L001_R1_001:\t69076 reads\t=>\t63056 reads\n"
     ]
    },
    {
     "name": "stderr",
     "output_type": "stream",
     "text": [
      "/Users/marczepeda/anaconda3/lib/python3.11/site-packages/Bio/Seq.py:2880: BiopythonWarning: Partial codon, len(sequence) not a multiple of three. Explicitly trim the sequence or add trailing N before translation. This may become an error in future.\n",
      "  warnings.warn(\n"
     ]
    },
    {
     "name": "stdout",
     "output_type": "stream",
     "text": [
      "MUZ137-64_S29_L001_R1_001:\t87984 reads\t=>\t78984 reads\n"
     ]
    },
    {
     "name": "stderr",
     "output_type": "stream",
     "text": [
      "/Users/marczepeda/anaconda3/lib/python3.11/site-packages/Bio/Seq.py:2880: BiopythonWarning: Partial codon, len(sequence) not a multiple of three. Explicitly trim the sequence or add trailing N before translation. This may become an error in future.\n",
      "  warnings.warn(\n"
     ]
    },
    {
     "name": "stdout",
     "output_type": "stream",
     "text": [
      "MUZ137-54_S19_L001_R1_001:\t60649 reads\t=>\t54921 reads\n"
     ]
    }
   ],
   "source": [
    "fastqs_filtered = f.filter_fastqs(fastqs=fastqs,\n",
    "                                  pt='../in/IKZF1_ZF2_3.csv',\n",
    "                                  quality=20)"
   ]
  },
  {
   "cell_type": "code",
   "execution_count": 5,
   "metadata": {},
   "outputs": [
    {
     "data": {
      "text/html": [
       "<div>\n",
       "<style scoped>\n",
       "    .dataframe tbody tr th:only-of-type {\n",
       "        vertical-align: middle;\n",
       "    }\n",
       "\n",
       "    .dataframe tbody tr th {\n",
       "        vertical-align: top;\n",
       "    }\n",
       "\n",
       "    .dataframe thead th {\n",
       "        text-align: right;\n",
       "    }\n",
       "</style>\n",
       "<table border=\"1\" class=\"dataframe\">\n",
       "  <thead>\n",
       "    <tr style=\"text-align: right;\">\n",
       "      <th></th>\n",
       "      <th>id</th>\n",
       "      <th>seq</th>\n",
       "      <th>phred_scores</th>\n",
       "      <th>nuc</th>\n",
       "      <th>prot</th>\n",
       "    </tr>\n",
       "  </thead>\n",
       "  <tbody>\n",
       "    <tr>\n",
       "      <th>0</th>\n",
       "      <td>M08188:135:000000000-GMHWV:1:1101:15531:1386</td>\n",
       "      <td>(C, T, T, A, T, C, T, C, T, C, C, G, T, C, C, ...</td>\n",
       "      <td>[33, 34, 34, 33, 34, 37, 37, 37, 37, 37, 37, 3...</td>\n",
       "      <td>(T, T, C, C, A, G, T, G, C, A, A, T, C, A, G, ...</td>\n",
       "      <td>(F, Q, C, N, Q, C, G, A, S, F, T, Q, K, G, N, ...</td>\n",
       "    </tr>\n",
       "    <tr>\n",
       "      <th>1</th>\n",
       "      <td>M08188:135:000000000-GMHWV:1:1101:16273:1412</td>\n",
       "      <td>(C, T, T, G, T, C, T, C, T, C, C, G, T, C, C, ...</td>\n",
       "      <td>[34, 34, 34, 34, 34, 37, 37, 37, 37, 37, 37, 3...</td>\n",
       "      <td>(T, T, C, C, A, G, T, G, C, A, A, T, C, A, G, ...</td>\n",
       "      <td>(F, Q, C, N, Q, C, G, A, S, F, T, Q, K, G, N, ...</td>\n",
       "    </tr>\n",
       "    <tr>\n",
       "      <th>2</th>\n",
       "      <td>M08188:135:000000000-GMHWV:1:1101:15914:1450</td>\n",
       "      <td>(C, T, G, G, T, C, T, C, T, C, C, G, T, C, C, ...</td>\n",
       "      <td>[31, 32, 33, 31, 33, 37, 37, 37, 37, 37, 37, 3...</td>\n",
       "      <td>(T, T, C, C, A, G, T, G, C, A, A, T, C, A, G, ...</td>\n",
       "      <td>(F, Q, C, N, Q, C, G, A, S, F, T, Q, K, G, N, ...</td>\n",
       "    </tr>\n",
       "    <tr>\n",
       "      <th>3</th>\n",
       "      <td>M08188:135:000000000-GMHWV:1:1101:15750:1488</td>\n",
       "      <td>(G, T, G, A, T, C, T, C, T, C, C, G, T, C, C, ...</td>\n",
       "      <td>[34, 34, 34, 35, 35, 37, 37, 37, 37, 37, 37, 3...</td>\n",
       "      <td>(T, T, C, C, A, G, T, G, C, A, A, T, C, A, G, ...</td>\n",
       "      <td>(F, Q, C, N, Q, C, G, A, S, F, T, Q, K, G, N, ...</td>\n",
       "    </tr>\n",
       "    <tr>\n",
       "      <th>4</th>\n",
       "      <td>M08188:135:000000000-GMHWV:1:1101:16932:1501</td>\n",
       "      <td>(T, T, A, T, T, C, T, C, T, C, C, G, T, C, C, ...</td>\n",
       "      <td>[32, 33, 33, 33, 33, 37, 37, 37, 37, 37, 37, 3...</td>\n",
       "      <td>(T, T, C, C, A, G, T, G, C, A, A, T, C, A, G, ...</td>\n",
       "      <td>(F, Q, C, N, Q, C, G, A, S, F, T, Q, K, G, N, ...</td>\n",
       "    </tr>\n",
       "  </tbody>\n",
       "</table>\n",
       "</div>"
      ],
      "text/plain": [
       "                                             id  \\\n",
       "0  M08188:135:000000000-GMHWV:1:1101:15531:1386   \n",
       "1  M08188:135:000000000-GMHWV:1:1101:16273:1412   \n",
       "2  M08188:135:000000000-GMHWV:1:1101:15914:1450   \n",
       "3  M08188:135:000000000-GMHWV:1:1101:15750:1488   \n",
       "4  M08188:135:000000000-GMHWV:1:1101:16932:1501   \n",
       "\n",
       "                                                 seq  \\\n",
       "0  (C, T, T, A, T, C, T, C, T, C, C, G, T, C, C, ...   \n",
       "1  (C, T, T, G, T, C, T, C, T, C, C, G, T, C, C, ...   \n",
       "2  (C, T, G, G, T, C, T, C, T, C, C, G, T, C, C, ...   \n",
       "3  (G, T, G, A, T, C, T, C, T, C, C, G, T, C, C, ...   \n",
       "4  (T, T, A, T, T, C, T, C, T, C, C, G, T, C, C, ...   \n",
       "\n",
       "                                        phred_scores  \\\n",
       "0  [33, 34, 34, 33, 34, 37, 37, 37, 37, 37, 37, 3...   \n",
       "1  [34, 34, 34, 34, 34, 37, 37, 37, 37, 37, 37, 3...   \n",
       "2  [31, 32, 33, 31, 33, 37, 37, 37, 37, 37, 37, 3...   \n",
       "3  [34, 34, 34, 35, 35, 37, 37, 37, 37, 37, 37, 3...   \n",
       "4  [32, 33, 33, 33, 33, 37, 37, 37, 37, 37, 37, 3...   \n",
       "\n",
       "                                                 nuc  \\\n",
       "0  (T, T, C, C, A, G, T, G, C, A, A, T, C, A, G, ...   \n",
       "1  (T, T, C, C, A, G, T, G, C, A, A, T, C, A, G, ...   \n",
       "2  (T, T, C, C, A, G, T, G, C, A, A, T, C, A, G, ...   \n",
       "3  (T, T, C, C, A, G, T, G, C, A, A, T, C, A, G, ...   \n",
       "4  (T, T, C, C, A, G, T, G, C, A, A, T, C, A, G, ...   \n",
       "\n",
       "                                                prot  \n",
       "0  (F, Q, C, N, Q, C, G, A, S, F, T, Q, K, G, N, ...  \n",
       "1  (F, Q, C, N, Q, C, G, A, S, F, T, Q, K, G, N, ...  \n",
       "2  (F, Q, C, N, Q, C, G, A, S, F, T, Q, K, G, N, ...  \n",
       "3  (F, Q, C, N, Q, C, G, A, S, F, T, Q, K, G, N, ...  \n",
       "4  (F, Q, C, N, Q, C, G, A, S, F, T, Q, K, G, N, ...  "
      ]
     },
     "execution_count": 5,
     "metadata": {},
     "output_type": "execute_result"
    }
   ],
   "source": [
    "fastqs_filtered['MUZ137-43_S8_L001_R1_001'].head()"
   ]
  },
  {
   "cell_type": "markdown",
   "metadata": {},
   "source": [
    "# genotype: Assign genotypes to sequence records\n",
    "- fastqs: dictionary from filter_fastqs\n",
    "- res: First AA number\n",
    "- pt: path to PrimeDesign input file (Required unless wt is provided)\n",
    "- wt: Expected wildtype nucleotide sequence (in frame AA; required unless pt is provided)\n",
    "- Dependencies: get_fastqs(),filter_fastqs(), pandas, Bio.Seq.Seq"
   ]
  },
  {
   "cell_type": "code",
   "execution_count": null,
   "metadata": {},
   "outputs": [],
   "source": [
    "fastqs_genotyped = f.genotype(fastqs=fastqs_filtered,\n",
    "                              pt='../in/IKZF1_ZF2_3.csv',\n",
    "                              res=145)"
   ]
  },
  {
   "cell_type": "code",
   "execution_count": 7,
   "metadata": {},
   "outputs": [
    {
     "data": {
      "text/html": [
       "<div>\n",
       "<style scoped>\n",
       "    .dataframe tbody tr th:only-of-type {\n",
       "        vertical-align: middle;\n",
       "    }\n",
       "\n",
       "    .dataframe tbody tr th {\n",
       "        vertical-align: top;\n",
       "    }\n",
       "\n",
       "    .dataframe thead th {\n",
       "        text-align: right;\n",
       "    }\n",
       "</style>\n",
       "<table border=\"1\" class=\"dataframe\">\n",
       "  <thead>\n",
       "    <tr style=\"text-align: right;\">\n",
       "      <th></th>\n",
       "      <th>id</th>\n",
       "      <th>seq</th>\n",
       "      <th>phred_scores</th>\n",
       "      <th>nuc</th>\n",
       "      <th>prot</th>\n",
       "      <th>edit</th>\n",
       "    </tr>\n",
       "  </thead>\n",
       "  <tbody>\n",
       "    <tr>\n",
       "      <th>0</th>\n",
       "      <td>M08188:135:000000000-GMHWV:1:1101:15531:1386</td>\n",
       "      <td>(C, T, T, A, T, C, T, C, T, C, C, G, T, C, C, ...</td>\n",
       "      <td>[33, 34, 34, 33, 34, 37, 37, 37, 37, 37, 37, 3...</td>\n",
       "      <td>(T, T, C, C, A, G, T, G, C, A, A, T, C, A, G, ...</td>\n",
       "      <td>(F, Q, C, N, Q, C, G, A, S, F, T, Q, K, G, N, ...</td>\n",
       "      <td>WT</td>\n",
       "    </tr>\n",
       "    <tr>\n",
       "      <th>1</th>\n",
       "      <td>M08188:135:000000000-GMHWV:1:1101:16273:1412</td>\n",
       "      <td>(C, T, T, G, T, C, T, C, T, C, C, G, T, C, C, ...</td>\n",
       "      <td>[34, 34, 34, 34, 34, 37, 37, 37, 37, 37, 37, 3...</td>\n",
       "      <td>(T, T, C, C, A, G, T, G, C, A, A, T, C, A, G, ...</td>\n",
       "      <td>(F, Q, C, N, Q, C, G, A, S, F, T, Q, K, G, N, ...</td>\n",
       "      <td>WT</td>\n",
       "    </tr>\n",
       "    <tr>\n",
       "      <th>2</th>\n",
       "      <td>M08188:135:000000000-GMHWV:1:1101:15914:1450</td>\n",
       "      <td>(C, T, G, G, T, C, T, C, T, C, C, G, T, C, C, ...</td>\n",
       "      <td>[31, 32, 33, 31, 33, 37, 37, 37, 37, 37, 37, 3...</td>\n",
       "      <td>(T, T, C, C, A, G, T, G, C, A, A, T, C, A, G, ...</td>\n",
       "      <td>(F, Q, C, N, Q, C, G, A, S, F, T, Q, K, G, N, ...</td>\n",
       "      <td>WT</td>\n",
       "    </tr>\n",
       "    <tr>\n",
       "      <th>3</th>\n",
       "      <td>M08188:135:000000000-GMHWV:1:1101:15750:1488</td>\n",
       "      <td>(G, T, G, A, T, C, T, C, T, C, C, G, T, C, C, ...</td>\n",
       "      <td>[34, 34, 34, 35, 35, 37, 37, 37, 37, 37, 37, 3...</td>\n",
       "      <td>(T, T, C, C, A, G, T, G, C, A, A, T, C, A, G, ...</td>\n",
       "      <td>(F, Q, C, N, Q, C, G, A, S, F, T, Q, K, G, N, ...</td>\n",
       "      <td>WT</td>\n",
       "    </tr>\n",
       "    <tr>\n",
       "      <th>4</th>\n",
       "      <td>M08188:135:000000000-GMHWV:1:1101:16932:1501</td>\n",
       "      <td>(T, T, A, T, T, C, T, C, T, C, C, G, T, C, C, ...</td>\n",
       "      <td>[32, 33, 33, 33, 33, 37, 37, 37, 37, 37, 37, 3...</td>\n",
       "      <td>(T, T, C, C, A, G, T, G, C, A, A, T, C, A, G, ...</td>\n",
       "      <td>(F, Q, C, N, Q, C, G, A, S, F, T, Q, K, G, N, ...</td>\n",
       "      <td>WT</td>\n",
       "    </tr>\n",
       "  </tbody>\n",
       "</table>\n",
       "</div>"
      ],
      "text/plain": [
       "                                             id  \\\n",
       "0  M08188:135:000000000-GMHWV:1:1101:15531:1386   \n",
       "1  M08188:135:000000000-GMHWV:1:1101:16273:1412   \n",
       "2  M08188:135:000000000-GMHWV:1:1101:15914:1450   \n",
       "3  M08188:135:000000000-GMHWV:1:1101:15750:1488   \n",
       "4  M08188:135:000000000-GMHWV:1:1101:16932:1501   \n",
       "\n",
       "                                                 seq  \\\n",
       "0  (C, T, T, A, T, C, T, C, T, C, C, G, T, C, C, ...   \n",
       "1  (C, T, T, G, T, C, T, C, T, C, C, G, T, C, C, ...   \n",
       "2  (C, T, G, G, T, C, T, C, T, C, C, G, T, C, C, ...   \n",
       "3  (G, T, G, A, T, C, T, C, T, C, C, G, T, C, C, ...   \n",
       "4  (T, T, A, T, T, C, T, C, T, C, C, G, T, C, C, ...   \n",
       "\n",
       "                                        phred_scores  \\\n",
       "0  [33, 34, 34, 33, 34, 37, 37, 37, 37, 37, 37, 3...   \n",
       "1  [34, 34, 34, 34, 34, 37, 37, 37, 37, 37, 37, 3...   \n",
       "2  [31, 32, 33, 31, 33, 37, 37, 37, 37, 37, 37, 3...   \n",
       "3  [34, 34, 34, 35, 35, 37, 37, 37, 37, 37, 37, 3...   \n",
       "4  [32, 33, 33, 33, 33, 37, 37, 37, 37, 37, 37, 3...   \n",
       "\n",
       "                                                 nuc  \\\n",
       "0  (T, T, C, C, A, G, T, G, C, A, A, T, C, A, G, ...   \n",
       "1  (T, T, C, C, A, G, T, G, C, A, A, T, C, A, G, ...   \n",
       "2  (T, T, C, C, A, G, T, G, C, A, A, T, C, A, G, ...   \n",
       "3  (T, T, C, C, A, G, T, G, C, A, A, T, C, A, G, ...   \n",
       "4  (T, T, C, C, A, G, T, G, C, A, A, T, C, A, G, ...   \n",
       "\n",
       "                                                prot edit  \n",
       "0  (F, Q, C, N, Q, C, G, A, S, F, T, Q, K, G, N, ...   WT  \n",
       "1  (F, Q, C, N, Q, C, G, A, S, F, T, Q, K, G, N, ...   WT  \n",
       "2  (F, Q, C, N, Q, C, G, A, S, F, T, Q, K, G, N, ...   WT  \n",
       "3  (F, Q, C, N, Q, C, G, A, S, F, T, Q, K, G, N, ...   WT  \n",
       "4  (F, Q, C, N, Q, C, G, A, S, F, T, Q, K, G, N, ...   WT  "
      ]
     },
     "execution_count": 7,
     "metadata": {},
     "output_type": "execute_result"
    }
   ],
   "source": [
    "fastqs_genotyped['MUZ137-43_S8_L001_R1_001'].head()"
   ]
  },
  {
   "cell_type": "markdown",
   "metadata": {},
   "source": [
    "# outcomes: Returns edit count & fraction per sample (tidy format)\n",
    "- fastqs: dictionary from genotype\n",
    "- Dependencies: get_fastqs(),filter_fastqs(),genotype(),pandas"
   ]
  },
  {
   "cell_type": "code",
   "execution_count": 8,
   "metadata": {},
   "outputs": [
    {
     "data": {
      "text/html": [
       "<div>\n",
       "<style scoped>\n",
       "    .dataframe tbody tr th:only-of-type {\n",
       "        vertical-align: middle;\n",
       "    }\n",
       "\n",
       "    .dataframe tbody tr th {\n",
       "        vertical-align: top;\n",
       "    }\n",
       "\n",
       "    .dataframe thead th {\n",
       "        text-align: right;\n",
       "    }\n",
       "</style>\n",
       "<table border=\"1\" class=\"dataframe\">\n",
       "  <thead>\n",
       "    <tr style=\"text-align: right;\">\n",
       "      <th></th>\n",
       "      <th>sample</th>\n",
       "      <th>edit</th>\n",
       "      <th>count</th>\n",
       "      <th>fraction</th>\n",
       "      <th>id</th>\n",
       "    </tr>\n",
       "  </thead>\n",
       "  <tbody>\n",
       "    <tr>\n",
       "      <th>0</th>\n",
       "      <td>MUZ137-43_S8_L001_R1_001</td>\n",
       "      <td>WT</td>\n",
       "      <td>49185</td>\n",
       "      <td>0.933514</td>\n",
       "      <td>MUZ137-43</td>\n",
       "    </tr>\n",
       "    <tr>\n",
       "      <th>1</th>\n",
       "      <td>MUZ137-43_S8_L001_R1_001</td>\n",
       "      <td>C175R</td>\n",
       "      <td>2423</td>\n",
       "      <td>0.045988</td>\n",
       "      <td>MUZ137-43</td>\n",
       "    </tr>\n",
       "    <tr>\n",
       "      <th>2</th>\n",
       "      <td>MUZ137-43_S8_L001_R1_001</td>\n",
       "      <td>Indel</td>\n",
       "      <td>62</td>\n",
       "      <td>0.001177</td>\n",
       "      <td>MUZ137-43</td>\n",
       "    </tr>\n",
       "    <tr>\n",
       "      <th>3</th>\n",
       "      <td>MUZ137-43_S8_L001_R1_001</td>\n",
       "      <td>G169R</td>\n",
       "      <td>27</td>\n",
       "      <td>0.000512</td>\n",
       "      <td>MUZ137-43</td>\n",
       "    </tr>\n",
       "    <tr>\n",
       "      <th>4</th>\n",
       "      <td>MUZ137-43_S8_L001_R1_001</td>\n",
       "      <td>A181T</td>\n",
       "      <td>25</td>\n",
       "      <td>0.000474</td>\n",
       "      <td>MUZ137-43</td>\n",
       "    </tr>\n",
       "    <tr>\n",
       "      <th>...</th>\n",
       "      <td>...</td>\n",
       "      <td>...</td>\n",
       "      <td>...</td>\n",
       "      <td>...</td>\n",
       "      <td>...</td>\n",
       "    </tr>\n",
       "    <tr>\n",
       "      <th>9587</th>\n",
       "      <td>MUZ137-54_S19_L001_R1_001</td>\n",
       "      <td>Q156K</td>\n",
       "      <td>1</td>\n",
       "      <td>0.000018</td>\n",
       "      <td>MUZ137-54</td>\n",
       "    </tr>\n",
       "    <tr>\n",
       "      <th>9588</th>\n",
       "      <td>MUZ137-54_S19_L001_R1_001</td>\n",
       "      <td>H195N</td>\n",
       "      <td>1</td>\n",
       "      <td>0.000018</td>\n",
       "      <td>MUZ137-54</td>\n",
       "    </tr>\n",
       "    <tr>\n",
       "      <th>9589</th>\n",
       "      <td>MUZ137-54_S19_L001_R1_001</td>\n",
       "      <td>R162L, T194M</td>\n",
       "      <td>1</td>\n",
       "      <td>0.000018</td>\n",
       "      <td>MUZ137-54</td>\n",
       "    </tr>\n",
       "    <tr>\n",
       "      <th>9590</th>\n",
       "      <td>MUZ137-54_S19_L001_R1_001</td>\n",
       "      <td>C175*, A181T</td>\n",
       "      <td>1</td>\n",
       "      <td>0.000018</td>\n",
       "      <td>MUZ137-54</td>\n",
       "    </tr>\n",
       "    <tr>\n",
       "      <th>9591</th>\n",
       "      <td>MUZ137-54_S19_L001_R1_001</td>\n",
       "      <td>R162P</td>\n",
       "      <td>1</td>\n",
       "      <td>0.000018</td>\n",
       "      <td>MUZ137-54</td>\n",
       "    </tr>\n",
       "  </tbody>\n",
       "</table>\n",
       "<p>9592 rows × 5 columns</p>\n",
       "</div>"
      ],
      "text/plain": [
       "                         sample          edit  count  fraction         id\n",
       "0      MUZ137-43_S8_L001_R1_001            WT  49185  0.933514  MUZ137-43\n",
       "1      MUZ137-43_S8_L001_R1_001         C175R   2423  0.045988  MUZ137-43\n",
       "2      MUZ137-43_S8_L001_R1_001         Indel     62  0.001177  MUZ137-43\n",
       "3      MUZ137-43_S8_L001_R1_001         G169R     27  0.000512  MUZ137-43\n",
       "4      MUZ137-43_S8_L001_R1_001         A181T     25  0.000474  MUZ137-43\n",
       "...                         ...           ...    ...       ...        ...\n",
       "9587  MUZ137-54_S19_L001_R1_001         Q156K      1  0.000018  MUZ137-54\n",
       "9588  MUZ137-54_S19_L001_R1_001         H195N      1  0.000018  MUZ137-54\n",
       "9589  MUZ137-54_S19_L001_R1_001  R162L, T194M      1  0.000018  MUZ137-54\n",
       "9590  MUZ137-54_S19_L001_R1_001  C175*, A181T      1  0.000018  MUZ137-54\n",
       "9591  MUZ137-54_S19_L001_R1_001         R162P      1  0.000018  MUZ137-54\n",
       "\n",
       "[9592 rows x 5 columns]"
      ]
     },
     "execution_count": 8,
     "metadata": {},
     "output_type": "execute_result"
    }
   ],
   "source": [
    "fastqs_outcomes = f.outcomes(fastqs=fastqs_genotyped)\n",
    "\n",
    "fastqs_outcomes['id']=[s.split('_')[0] for s in fastqs_outcomes['sample']]\n",
    "io.save(dir='../out',\n",
    "        file='fastq_outcomes.csv',\n",
    "        obj=fastqs_outcomes)\n",
    "fastqs_outcomes"
   ]
  },
  {
   "cell_type": "markdown",
   "metadata": {},
   "source": [
    "## Combine outcomes with metadata"
   ]
  },
  {
   "cell_type": "code",
   "execution_count": 9,
   "metadata": {},
   "outputs": [
    {
     "data": {
      "text/html": [
       "<div>\n",
       "<style scoped>\n",
       "    .dataframe tbody tr th:only-of-type {\n",
       "        vertical-align: middle;\n",
       "    }\n",
       "\n",
       "    .dataframe tbody tr th {\n",
       "        vertical-align: top;\n",
       "    }\n",
       "\n",
       "    .dataframe thead th {\n",
       "        text-align: right;\n",
       "    }\n",
       "</style>\n",
       "<table border=\"1\" class=\"dataframe\">\n",
       "  <thead>\n",
       "    <tr style=\"text-align: right;\">\n",
       "      <th></th>\n",
       "      <th>sample</th>\n",
       "      <th>edit</th>\n",
       "      <th>count</th>\n",
       "      <th>fraction</th>\n",
       "      <th>id</th>\n",
       "      <th>ID</th>\n",
       "      <th>Cell ID</th>\n",
       "      <th>VLP ID</th>\n",
       "      <th>Dose</th>\n",
       "      <th>Replicate</th>\n",
       "      <th>...</th>\n",
       "      <th>PCR1 FWD</th>\n",
       "      <th>PCR1 REV</th>\n",
       "      <th>PCR2 FWD</th>\n",
       "      <th>PCR2 REV</th>\n",
       "      <th>Reads, M</th>\n",
       "      <th>i7 Barcode</th>\n",
       "      <th>i5 Barcode</th>\n",
       "      <th>fastq_name</th>\n",
       "      <th>fastq</th>\n",
       "      <th>Description</th>\n",
       "    </tr>\n",
       "  </thead>\n",
       "  <tbody>\n",
       "    <tr>\n",
       "      <th>0</th>\n",
       "      <td>MUZ137-43_S8_L001_R1_001</td>\n",
       "      <td>WT</td>\n",
       "      <td>49185</td>\n",
       "      <td>0.933514</td>\n",
       "      <td>MUZ137-43</td>\n",
       "      <td>3</td>\n",
       "      <td>Jurkat WT</td>\n",
       "      <td>1</td>\n",
       "      <td>10</td>\n",
       "      <td>1</td>\n",
       "      <td>...</td>\n",
       "      <td>spMUZ052</td>\n",
       "      <td>spMUZ053</td>\n",
       "      <td>FWD-2c</td>\n",
       "      <td>PE-REV4</td>\n",
       "      <td>0.1</td>\n",
       "      <td>TGACCAAT</td>\n",
       "      <td>CGCTCATT</td>\n",
       "      <td>MUZ137-43</td>\n",
       "      <td>fastq/MUZ137-43_S8_L001_R1_001.fastq.gz</td>\n",
       "      <td>VLP-PE; 10 uL</td>\n",
       "    </tr>\n",
       "    <tr>\n",
       "      <th>1</th>\n",
       "      <td>MUZ137-43_S8_L001_R1_001</td>\n",
       "      <td>C175R</td>\n",
       "      <td>2423</td>\n",
       "      <td>0.045988</td>\n",
       "      <td>MUZ137-43</td>\n",
       "      <td>3</td>\n",
       "      <td>Jurkat WT</td>\n",
       "      <td>1</td>\n",
       "      <td>10</td>\n",
       "      <td>1</td>\n",
       "      <td>...</td>\n",
       "      <td>spMUZ052</td>\n",
       "      <td>spMUZ053</td>\n",
       "      <td>FWD-2c</td>\n",
       "      <td>PE-REV4</td>\n",
       "      <td>0.1</td>\n",
       "      <td>TGACCAAT</td>\n",
       "      <td>CGCTCATT</td>\n",
       "      <td>MUZ137-43</td>\n",
       "      <td>fastq/MUZ137-43_S8_L001_R1_001.fastq.gz</td>\n",
       "      <td>VLP-PE; 10 uL</td>\n",
       "    </tr>\n",
       "    <tr>\n",
       "      <th>2</th>\n",
       "      <td>MUZ137-43_S8_L001_R1_001</td>\n",
       "      <td>Indel</td>\n",
       "      <td>62</td>\n",
       "      <td>0.001177</td>\n",
       "      <td>MUZ137-43</td>\n",
       "      <td>3</td>\n",
       "      <td>Jurkat WT</td>\n",
       "      <td>1</td>\n",
       "      <td>10</td>\n",
       "      <td>1</td>\n",
       "      <td>...</td>\n",
       "      <td>spMUZ052</td>\n",
       "      <td>spMUZ053</td>\n",
       "      <td>FWD-2c</td>\n",
       "      <td>PE-REV4</td>\n",
       "      <td>0.1</td>\n",
       "      <td>TGACCAAT</td>\n",
       "      <td>CGCTCATT</td>\n",
       "      <td>MUZ137-43</td>\n",
       "      <td>fastq/MUZ137-43_S8_L001_R1_001.fastq.gz</td>\n",
       "      <td>VLP-PE; 10 uL</td>\n",
       "    </tr>\n",
       "    <tr>\n",
       "      <th>3</th>\n",
       "      <td>MUZ137-43_S8_L001_R1_001</td>\n",
       "      <td>G169R</td>\n",
       "      <td>27</td>\n",
       "      <td>0.000512</td>\n",
       "      <td>MUZ137-43</td>\n",
       "      <td>3</td>\n",
       "      <td>Jurkat WT</td>\n",
       "      <td>1</td>\n",
       "      <td>10</td>\n",
       "      <td>1</td>\n",
       "      <td>...</td>\n",
       "      <td>spMUZ052</td>\n",
       "      <td>spMUZ053</td>\n",
       "      <td>FWD-2c</td>\n",
       "      <td>PE-REV4</td>\n",
       "      <td>0.1</td>\n",
       "      <td>TGACCAAT</td>\n",
       "      <td>CGCTCATT</td>\n",
       "      <td>MUZ137-43</td>\n",
       "      <td>fastq/MUZ137-43_S8_L001_R1_001.fastq.gz</td>\n",
       "      <td>VLP-PE; 10 uL</td>\n",
       "    </tr>\n",
       "    <tr>\n",
       "      <th>4</th>\n",
       "      <td>MUZ137-43_S8_L001_R1_001</td>\n",
       "      <td>A181T</td>\n",
       "      <td>25</td>\n",
       "      <td>0.000474</td>\n",
       "      <td>MUZ137-43</td>\n",
       "      <td>3</td>\n",
       "      <td>Jurkat WT</td>\n",
       "      <td>1</td>\n",
       "      <td>10</td>\n",
       "      <td>1</td>\n",
       "      <td>...</td>\n",
       "      <td>spMUZ052</td>\n",
       "      <td>spMUZ053</td>\n",
       "      <td>FWD-2c</td>\n",
       "      <td>PE-REV4</td>\n",
       "      <td>0.1</td>\n",
       "      <td>TGACCAAT</td>\n",
       "      <td>CGCTCATT</td>\n",
       "      <td>MUZ137-43</td>\n",
       "      <td>fastq/MUZ137-43_S8_L001_R1_001.fastq.gz</td>\n",
       "      <td>VLP-PE; 10 uL</td>\n",
       "    </tr>\n",
       "    <tr>\n",
       "      <th>...</th>\n",
       "      <td>...</td>\n",
       "      <td>...</td>\n",
       "      <td>...</td>\n",
       "      <td>...</td>\n",
       "      <td>...</td>\n",
       "      <td>...</td>\n",
       "      <td>...</td>\n",
       "      <td>...</td>\n",
       "      <td>...</td>\n",
       "      <td>...</td>\n",
       "      <td>...</td>\n",
       "      <td>...</td>\n",
       "      <td>...</td>\n",
       "      <td>...</td>\n",
       "      <td>...</td>\n",
       "      <td>...</td>\n",
       "      <td>...</td>\n",
       "      <td>...</td>\n",
       "      <td>...</td>\n",
       "      <td>...</td>\n",
       "      <td>...</td>\n",
       "    </tr>\n",
       "    <tr>\n",
       "      <th>9587</th>\n",
       "      <td>MUZ137-54_S19_L001_R1_001</td>\n",
       "      <td>Q156K</td>\n",
       "      <td>1</td>\n",
       "      <td>0.000018</td>\n",
       "      <td>MUZ137-54</td>\n",
       "      <td>14</td>\n",
       "      <td>Jurkat MUZ117.3</td>\n",
       "      <td>3</td>\n",
       "      <td>5</td>\n",
       "      <td>2</td>\n",
       "      <td>...</td>\n",
       "      <td>spMUZ052</td>\n",
       "      <td>spMUZ053</td>\n",
       "      <td>FWD-2b</td>\n",
       "      <td>PE-REV13</td>\n",
       "      <td>0.1</td>\n",
       "      <td>AGTCAACA</td>\n",
       "      <td>TCCGGAGA</td>\n",
       "      <td>MUZ137-54</td>\n",
       "      <td>fastq/MUZ137-54_S19_L001_R1_001.fastq.gz</td>\n",
       "      <td>VLP-PE (no RNA); 5 uL</td>\n",
       "    </tr>\n",
       "    <tr>\n",
       "      <th>9588</th>\n",
       "      <td>MUZ137-54_S19_L001_R1_001</td>\n",
       "      <td>H195N</td>\n",
       "      <td>1</td>\n",
       "      <td>0.000018</td>\n",
       "      <td>MUZ137-54</td>\n",
       "      <td>14</td>\n",
       "      <td>Jurkat MUZ117.3</td>\n",
       "      <td>3</td>\n",
       "      <td>5</td>\n",
       "      <td>2</td>\n",
       "      <td>...</td>\n",
       "      <td>spMUZ052</td>\n",
       "      <td>spMUZ053</td>\n",
       "      <td>FWD-2b</td>\n",
       "      <td>PE-REV13</td>\n",
       "      <td>0.1</td>\n",
       "      <td>AGTCAACA</td>\n",
       "      <td>TCCGGAGA</td>\n",
       "      <td>MUZ137-54</td>\n",
       "      <td>fastq/MUZ137-54_S19_L001_R1_001.fastq.gz</td>\n",
       "      <td>VLP-PE (no RNA); 5 uL</td>\n",
       "    </tr>\n",
       "    <tr>\n",
       "      <th>9589</th>\n",
       "      <td>MUZ137-54_S19_L001_R1_001</td>\n",
       "      <td>R162L, T194M</td>\n",
       "      <td>1</td>\n",
       "      <td>0.000018</td>\n",
       "      <td>MUZ137-54</td>\n",
       "      <td>14</td>\n",
       "      <td>Jurkat MUZ117.3</td>\n",
       "      <td>3</td>\n",
       "      <td>5</td>\n",
       "      <td>2</td>\n",
       "      <td>...</td>\n",
       "      <td>spMUZ052</td>\n",
       "      <td>spMUZ053</td>\n",
       "      <td>FWD-2b</td>\n",
       "      <td>PE-REV13</td>\n",
       "      <td>0.1</td>\n",
       "      <td>AGTCAACA</td>\n",
       "      <td>TCCGGAGA</td>\n",
       "      <td>MUZ137-54</td>\n",
       "      <td>fastq/MUZ137-54_S19_L001_R1_001.fastq.gz</td>\n",
       "      <td>VLP-PE (no RNA); 5 uL</td>\n",
       "    </tr>\n",
       "    <tr>\n",
       "      <th>9590</th>\n",
       "      <td>MUZ137-54_S19_L001_R1_001</td>\n",
       "      <td>C175*, A181T</td>\n",
       "      <td>1</td>\n",
       "      <td>0.000018</td>\n",
       "      <td>MUZ137-54</td>\n",
       "      <td>14</td>\n",
       "      <td>Jurkat MUZ117.3</td>\n",
       "      <td>3</td>\n",
       "      <td>5</td>\n",
       "      <td>2</td>\n",
       "      <td>...</td>\n",
       "      <td>spMUZ052</td>\n",
       "      <td>spMUZ053</td>\n",
       "      <td>FWD-2b</td>\n",
       "      <td>PE-REV13</td>\n",
       "      <td>0.1</td>\n",
       "      <td>AGTCAACA</td>\n",
       "      <td>TCCGGAGA</td>\n",
       "      <td>MUZ137-54</td>\n",
       "      <td>fastq/MUZ137-54_S19_L001_R1_001.fastq.gz</td>\n",
       "      <td>VLP-PE (no RNA); 5 uL</td>\n",
       "    </tr>\n",
       "    <tr>\n",
       "      <th>9591</th>\n",
       "      <td>MUZ137-54_S19_L001_R1_001</td>\n",
       "      <td>R162P</td>\n",
       "      <td>1</td>\n",
       "      <td>0.000018</td>\n",
       "      <td>MUZ137-54</td>\n",
       "      <td>14</td>\n",
       "      <td>Jurkat MUZ117.3</td>\n",
       "      <td>3</td>\n",
       "      <td>5</td>\n",
       "      <td>2</td>\n",
       "      <td>...</td>\n",
       "      <td>spMUZ052</td>\n",
       "      <td>spMUZ053</td>\n",
       "      <td>FWD-2b</td>\n",
       "      <td>PE-REV13</td>\n",
       "      <td>0.1</td>\n",
       "      <td>AGTCAACA</td>\n",
       "      <td>TCCGGAGA</td>\n",
       "      <td>MUZ137-54</td>\n",
       "      <td>fastq/MUZ137-54_S19_L001_R1_001.fastq.gz</td>\n",
       "      <td>VLP-PE (no RNA); 5 uL</td>\n",
       "    </tr>\n",
       "  </tbody>\n",
       "</table>\n",
       "<p>9592 rows × 25 columns</p>\n",
       "</div>"
      ],
      "text/plain": [
       "                         sample          edit  count  fraction         id  ID  \\\n",
       "0      MUZ137-43_S8_L001_R1_001            WT  49185  0.933514  MUZ137-43   3   \n",
       "1      MUZ137-43_S8_L001_R1_001         C175R   2423  0.045988  MUZ137-43   3   \n",
       "2      MUZ137-43_S8_L001_R1_001         Indel     62  0.001177  MUZ137-43   3   \n",
       "3      MUZ137-43_S8_L001_R1_001         G169R     27  0.000512  MUZ137-43   3   \n",
       "4      MUZ137-43_S8_L001_R1_001         A181T     25  0.000474  MUZ137-43   3   \n",
       "...                         ...           ...    ...       ...        ...  ..   \n",
       "9587  MUZ137-54_S19_L001_R1_001         Q156K      1  0.000018  MUZ137-54  14   \n",
       "9588  MUZ137-54_S19_L001_R1_001         H195N      1  0.000018  MUZ137-54  14   \n",
       "9589  MUZ137-54_S19_L001_R1_001  R162L, T194M      1  0.000018  MUZ137-54  14   \n",
       "9590  MUZ137-54_S19_L001_R1_001  C175*, A181T      1  0.000018  MUZ137-54  14   \n",
       "9591  MUZ137-54_S19_L001_R1_001         R162P      1  0.000018  MUZ137-54  14   \n",
       "\n",
       "              Cell ID  VLP ID  Dose  Replicate  ...  PCR1 FWD  PCR1 REV  \\\n",
       "0           Jurkat WT       1    10          1  ...  spMUZ052  spMUZ053   \n",
       "1           Jurkat WT       1    10          1  ...  spMUZ052  spMUZ053   \n",
       "2           Jurkat WT       1    10          1  ...  spMUZ052  spMUZ053   \n",
       "3           Jurkat WT       1    10          1  ...  spMUZ052  spMUZ053   \n",
       "4           Jurkat WT       1    10          1  ...  spMUZ052  spMUZ053   \n",
       "...               ...     ...   ...        ...  ...       ...       ...   \n",
       "9587  Jurkat MUZ117.3       3     5          2  ...  spMUZ052  spMUZ053   \n",
       "9588  Jurkat MUZ117.3       3     5          2  ...  spMUZ052  spMUZ053   \n",
       "9589  Jurkat MUZ117.3       3     5          2  ...  spMUZ052  spMUZ053   \n",
       "9590  Jurkat MUZ117.3       3     5          2  ...  spMUZ052  spMUZ053   \n",
       "9591  Jurkat MUZ117.3       3     5          2  ...  spMUZ052  spMUZ053   \n",
       "\n",
       "     PCR2 FWD  PCR2 REV Reads, M i7 Barcode i5 Barcode fastq_name  \\\n",
       "0      FWD-2c   PE-REV4      0.1   TGACCAAT   CGCTCATT  MUZ137-43   \n",
       "1      FWD-2c   PE-REV4      0.1   TGACCAAT   CGCTCATT  MUZ137-43   \n",
       "2      FWD-2c   PE-REV4      0.1   TGACCAAT   CGCTCATT  MUZ137-43   \n",
       "3      FWD-2c   PE-REV4      0.1   TGACCAAT   CGCTCATT  MUZ137-43   \n",
       "4      FWD-2c   PE-REV4      0.1   TGACCAAT   CGCTCATT  MUZ137-43   \n",
       "...       ...       ...      ...        ...        ...        ...   \n",
       "9587   FWD-2b  PE-REV13      0.1   AGTCAACA   TCCGGAGA  MUZ137-54   \n",
       "9588   FWD-2b  PE-REV13      0.1   AGTCAACA   TCCGGAGA  MUZ137-54   \n",
       "9589   FWD-2b  PE-REV13      0.1   AGTCAACA   TCCGGAGA  MUZ137-54   \n",
       "9590   FWD-2b  PE-REV13      0.1   AGTCAACA   TCCGGAGA  MUZ137-54   \n",
       "9591   FWD-2b  PE-REV13      0.1   AGTCAACA   TCCGGAGA  MUZ137-54   \n",
       "\n",
       "                                         fastq            Description  \n",
       "0      fastq/MUZ137-43_S8_L001_R1_001.fastq.gz          VLP-PE; 10 uL  \n",
       "1      fastq/MUZ137-43_S8_L001_R1_001.fastq.gz          VLP-PE; 10 uL  \n",
       "2      fastq/MUZ137-43_S8_L001_R1_001.fastq.gz          VLP-PE; 10 uL  \n",
       "3      fastq/MUZ137-43_S8_L001_R1_001.fastq.gz          VLP-PE; 10 uL  \n",
       "4      fastq/MUZ137-43_S8_L001_R1_001.fastq.gz          VLP-PE; 10 uL  \n",
       "...                                        ...                    ...  \n",
       "9587  fastq/MUZ137-54_S19_L001_R1_001.fastq.gz  VLP-PE (no RNA); 5 uL  \n",
       "9588  fastq/MUZ137-54_S19_L001_R1_001.fastq.gz  VLP-PE (no RNA); 5 uL  \n",
       "9589  fastq/MUZ137-54_S19_L001_R1_001.fastq.gz  VLP-PE (no RNA); 5 uL  \n",
       "9590  fastq/MUZ137-54_S19_L001_R1_001.fastq.gz  VLP-PE (no RNA); 5 uL  \n",
       "9591  fastq/MUZ137-54_S19_L001_R1_001.fastq.gz  VLP-PE (no RNA); 5 uL  \n",
       "\n",
       "[9592 rows x 25 columns]"
      ]
     },
     "execution_count": 9,
     "metadata": {},
     "output_type": "execute_result"
    }
   ],
   "source": [
    "meta = io.get('../in/240816_MUZ137_NGS.csv')\n",
    "meta['id'] = meta['fastq_name']\n",
    "fastqs_outcomes_meta = pd.merge(left=fastqs_outcomes,right=meta,how='left',on='id')\n",
    "fastqs_outcomes_meta['Description'] = [f'{desc}; {fastqs_outcomes_meta.iloc[i][\"Dose\"]} uL' for i,desc in enumerate(fastqs_outcomes_meta['VLP Description'])]\n",
    "io.save(dir='../out',\n",
    "        file='fastq_outcomes_meta.csv',\n",
    "        obj=fastqs_outcomes_meta)\n",
    "fastqs_outcomes_meta"
   ]
  },
  {
   "cell_type": "markdown",
   "metadata": {},
   "source": [
    "# stack: Creates stacked bar plot\n",
    "- df: dataframe from outcomes\n",
    "- x: x-axis column\n",
    "- y: y-axis column\n",
    "- cols: colors column\n",
    "- cutoff: y-axis values needs be greater than (ex: 1%)\n",
    "- Dependencies: plot.py,re,os,pandas,numpy,matplotlib.pyplot"
   ]
  },
  {
   "cell_type": "code",
   "execution_count": 13,
   "metadata": {},
   "outputs": [
    {
     "data": {
      "image/png": "[encoded data removed]",
      "text/plain": [
       "<Figure size 700x500 with 1 Axes>"
      ]
     },
     "metadata": {},
     "output_type": "display_data"
    }
   ],
   "source": [
    "f.stack(fastqs_outcomes_meta,\n",
    "        x='VLP Description',\n",
    "        x_axis='VLP Description',\n",
    "        y='fraction',\n",
    "        cols='edit',\n",
    "        cutoff=.002,\n",
    "        title='VLP-PE IKZF1 Outcomes in Jurkats',\n",
    "        figsize=(7,5),\n",
    "        cmap='tab20c_r',\n",
    "        dir='../out',\n",
    "        file='stack.png')"
   ]
  },
  {
   "cell_type": "markdown",
   "metadata": {},
   "source": [
    "# cat: Creates category dependent graphs.\n",
    "- typ: plot type (bar, box, violin, swarm, strip, point, count, bar_swarm, box_swarm, violin_swarm)\n",
    "- df: tidy dataframe\n",
    "- x: x-axis column\n",
    "- y: y-axis column\n",
    "- Dependencies: os, matplotlib, seaborn, plot.py"
   ]
  },
  {
   "cell_type": "code",
   "execution_count": 14,
   "metadata": {},
   "outputs": [
    {
     "data": {
      "image/png": "[encoded data removed]",
      "text/plain": [
       "<Figure size 1500x400 with 1 Axes>"
      ]
     },
     "metadata": {},
     "output_type": "display_data"
    }
   ],
   "source": [
    "f.cat(typ='bar_swarm',\n",
    "      df=fastqs_outcomes_meta,\n",
    "      x='VLP Description',\n",
    "      x_axis='VLP Description',\n",
    "      x_ticks_rot=45,\n",
    "      y='fraction',\n",
    "      y_axis_dims=(0,.2),\n",
    "      cols='edit',\n",
    "      cols_exclude='WT',\n",
    "      cutoff=.002,\n",
    "      title='VLP-PE IKZF1 Outcomes in Jurkats',\n",
    "      figsize=(15,4),\n",
    "      palette_or_cmap='tab20c_r',\n",
    "      legend_items=(4,8),\n",
    "      dir='../out',\n",
    "      file='cat.png')"
   ]
  }
 ],
 "metadata": {
  "kernelspec": {
   "display_name": "base",
   "language": "python",
   "name": "python3"
  },
  "language_info": {
   "codemirror_mode": {
    "name": "ipython",
    "version": 3
   },
   "file_extension": ".py",
   "mimetype": "text/x-python",
   "name": "python",
   "nbconvert_exporter": "python",
   "pygments_lexer": "ipython3",
   "version": "3.11.5"
  }
 },
 "nbformat": 4,
 "nbformat_minor": 2
}
